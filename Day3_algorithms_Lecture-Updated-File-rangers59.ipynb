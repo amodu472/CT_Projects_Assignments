{
 "cells": [
  {
   "cell_type": "markdown",
   "metadata": {},
   "source": [
    "# Algorithms, Binary Search & Linked Lists"
   ]
  },
  {
   "cell_type": "markdown",
   "metadata": {},
   "source": [
    "## Tasks Today:\n",
    " \n",
    "1) <b>In-Place Algorithms</b> <br>\n",
    " &nbsp;&nbsp;&nbsp;&nbsp; a) Syntax <br>\n",
    " &nbsp;&nbsp;&nbsp;&nbsp; a) Out of Place Algorithm <br>\n",
    " &nbsp;&nbsp;&nbsp;&nbsp; b) In-Class Exercise #1 <br>\n",
    "2) <b>Two Pointers</b> <br>\n",
    "3) <b>Linked Lists</b> <br>\n",
    "4) <b>Merge Sort</b> <br>\n",
    " &nbsp;&nbsp;&nbsp;&nbsp; a) Video on Algorithms <br>\n",
    " &nbsp;&nbsp;&nbsp;&nbsp; b) How it Works <br>\n",
    "5) <b>Exercises</b> <br>\n",
    " &nbsp;&nbsp;&nbsp;&nbsp; a) Exercise #1 - Reverse a List in Place Using an In-Place Algorithm <br>\n",
    " &nbsp;&nbsp;&nbsp;&nbsp; b) Exercise #2 - Find Distinct Words <br>\n",
    " &nbsp;&nbsp;&nbsp;&nbsp; c) Exercise #3 - Write a program to implement a Linear Search Algorithm. <br>"
   ]
  },
  {
   "cell_type": "markdown",
   "metadata": {},
   "source": [
    "## In-Place Algorithms"
   ]
  },
  {
   "cell_type": "markdown",
   "metadata": {},
   "source": [
    "#### Syntax"
   ]
  },
  {
   "cell_type": "code",
   "execution_count": null,
   "metadata": {},
   "outputs": [],
   "source": []
  },
  {
   "cell_type": "markdown",
   "metadata": {},
   "source": [
    "#### Out of Place Algorithm"
   ]
  },
  {
   "cell_type": "code",
   "execution_count": null,
   "metadata": {},
   "outputs": [],
   "source": [
    "\n"
   ]
  },
  {
   "cell_type": "markdown",
   "metadata": {},
   "source": [
    "#### In-Class Exercise #1 <br>\n",
    "<p>Write a function that takes in four arguments (list, index1, index2, index3), and swaps those three positions in the list passed in.</p>"
   ]
  },
  {
   "cell_type": "code",
   "execution_count": 8,
   "metadata": {},
   "outputs": [
    {
     "name": "stdout",
     "output_type": "stream",
     "text": [
      "[3, 4, 10, 8, 4, 2, 6]\n",
      "[3, 4, 10, 8, 6, 2, 4]\n"
     ]
    },
    {
     "ename": "IndexError",
     "evalue": "One or more of your indexes is out of range!",
     "output_type": "error",
     "traceback": [
      "\u001b[1;31m---------------------------------------------------------------------------\u001b[0m",
      "\u001b[1;31mIndexError\u001b[0m                                Traceback (most recent call last)",
      "Cell \u001b[1;32mIn[8], line 19\u001b[0m\n\u001b[0;32m     16\u001b[0m \u001b[38;5;28mprint\u001b[39m(swapping_function(l_1, \u001b[38;5;241m-\u001b[39m\u001b[38;5;241m1\u001b[39m,\u001b[38;5;241m-\u001b[39m\u001b[38;5;241m2\u001b[39m,\u001b[38;5;241m-\u001b[39m\u001b[38;5;241m3\u001b[39m))\n\u001b[0;32m     18\u001b[0m \u001b[38;5;66;03m# out of index error\u001b[39;00m\n\u001b[1;32m---> 19\u001b[0m \u001b[38;5;28mprint\u001b[39m(swapping_function(l_1, \u001b[38;5;241m7\u001b[39m,\u001b[38;5;241m0\u001b[39m,\u001b[38;5;241m1\u001b[39m))\n",
      "Cell \u001b[1;32mIn[8], line 9\u001b[0m, in \u001b[0;36mswapping_function\u001b[1;34m(list_, index1, index2, index3)\u001b[0m\n\u001b[0;32m      7\u001b[0m     list_[index1], list_[index2], list_[index3] \u001b[38;5;241m=\u001b[39m list_[index3], list_[index2], list_[index1]\n\u001b[0;32m      8\u001b[0m \u001b[38;5;28;01melse\u001b[39;00m:\n\u001b[1;32m----> 9\u001b[0m     \u001b[38;5;28;01mraise\u001b[39;00m \u001b[38;5;167;01mIndexError\u001b[39;00m(\u001b[38;5;124m\"\u001b[39m\u001b[38;5;124mOne or more of your indexes is out of range!\u001b[39m\u001b[38;5;124m\"\u001b[39m)\n\u001b[0;32m     10\u001b[0m \u001b[38;5;28;01mreturn\u001b[39;00m list_\n",
      "\u001b[1;31mIndexError\u001b[0m: One or more of your indexes is out of range!"
     ]
    }
   ],
   "source": [
    "l_1 = [10, 4, 3, 8, 4, 2, 6]\n",
    "\n",
    "def swapping_function(list_: list, index1: int, index2: int, index3: int)->list:\n",
    "    length_of_list = len(list_)\n",
    "    if length_of_list > index1 and length_of_list > index2 and length_of_list > index3:\n",
    "        # do our reassignment as follows (tuple unpacking)\n",
    "        list_[index1], list_[index2], list_[index3] = list_[index3], list_[index2], list_[index1]\n",
    "    else:\n",
    "        raise IndexError(\"One or more of your indexes is out of range!\")\n",
    "    return list_\n",
    "\n",
    "# test all positive indexes\n",
    "print(swapping_function(l_1, 0,1,2))\n",
    "\n",
    "# test all negative indexes\n",
    "print(swapping_function(l_1, -1,-2,-3))\n",
    "\n",
    "# out of range error\n",
    "print(swapping_function(l_1, 7,0,1))"
   ]
  },
  {
   "cell_type": "markdown",
   "metadata": {},
   "source": [
    "## Two Pointers"
   ]
  },
  {
   "cell_type": "markdown",
   "metadata": {},
   "source": [
    "#### Syntax"
   ]
  },
  {
   "cell_type": "code",
   "execution_count": null,
   "metadata": {},
   "outputs": [],
   "source": []
  },
  {
   "cell_type": "markdown",
   "metadata": {},
   "source": [
    "#### Video of Algorithms <br>\n",
    "<p>Watch the video about algorithms.</p>\n",
    "\n",
    "https://www.youtube.com/watch?v=Q9HjeFD62Uk\n",
    "\n",
    "https://www.youtube.com/watch?v=kPRA0W1kECg\n",
    "\n",
    "https://www.youtube.com/watch?v=ZZuD6iUe3Pc"
   ]
  },
  {
   "cell_type": "markdown",
   "metadata": {},
   "source": [
    "# Sorting Algorithms"
   ]
  },
  {
   "cell_type": "markdown",
   "metadata": {},
   "source": [
    "#### Bubble Sort\n",
    "\n",
    "Worst Case: O(n^2) Time - O(1) Space"
   ]
  },
  {
   "cell_type": "code",
   "execution_count": null,
   "metadata": {},
   "outputs": [],
   "source": []
  },
  {
   "cell_type": "markdown",
   "metadata": {},
   "source": [
    "##### Insertion Sort\n",
    "\n",
    "Worst Case: O(n^2) time - O(1)space"
   ]
  },
  {
   "cell_type": "code",
   "execution_count": null,
   "metadata": {},
   "outputs": [],
   "source": []
  },
  {
   "cell_type": "markdown",
   "metadata": {},
   "source": [
    "## Merge Sort"
   ]
  },
  {
   "cell_type": "markdown",
   "metadata": {},
   "source": [
    "#### How it Works"
   ]
  },
  {
   "cell_type": "code",
   "execution_count": null,
   "metadata": {},
   "outputs": [],
   "source": []
  },
  {
   "cell_type": "markdown",
   "metadata": {},
   "source": [
    "# Binary Search\n",
    "\n",
    "The Binary Search algorithm works by finding the number in the middle of a given array and comparing it to the target. Given that the array is sorted\n",
    "\n",
    "* The worst case run time for this algorithm is `O(log(n))`"
   ]
  },
  {
   "cell_type": "code",
   "execution_count": null,
   "metadata": {},
   "outputs": [],
   "source": []
  },
  {
   "cell_type": "markdown",
   "metadata": {},
   "source": [
    "# Exercises"
   ]
  },
  {
   "cell_type": "markdown",
   "metadata": {},
   "source": [
    "### Exercise #1 <br>\n",
    "<p>Reverse the list below in-place using an in-place algorithm.<br>For extra credit: Reverse the strings at the same time.</p>"
   ]
  },
  {
   "cell_type": "code",
   "execution_count": 18,
   "metadata": {},
   "outputs": [
    {
     "name": "stdout",
     "output_type": "stream",
     "text": [
      "['.', 'ecnetnes', 'a', 'si', 'siht']\n"
     ]
    }
   ],
   "source": [
    "words = ['this' , 'is', 'a', 'sentence', '.']\n",
    "\n",
    "# lets start with a while loop that runs exactly once \n",
    "while True:\n",
    "    # slice through the list from the beginning to the end and reassign it from the end to the beginning\n",
    "    words[:] = words[::-1] \n",
    "    # loop though each word in the list and reverse as well \n",
    "    for i in range(len(words)):\n",
    "        word = words[i]\n",
    "        words[i] = word[::-1]\n",
    "    break\n",
    "    \n",
    "print(words)"
   ]
  },
  {
   "cell_type": "markdown",
   "metadata": {},
   "source": [
    "### Exercise #2 <br>\n",
    "<p>Create a function that counts how many distinct words are in the string below, then outputs a dictionary with the words as the key and the value as the amount of times that word appears in the string.<br>Should output:<br>{'a': 5,<br>\n",
    " 'abstract': 1,<br>\n",
    " 'an': 3,<br>\n",
    " 'array': 2, ... etc...</p>"
   ]
  },
  {
   "cell_type": "code",
   "execution_count": 49,
   "metadata": {},
   "outputs": [
    {
     "name": "stdout",
     "output_type": "stream",
     "text": [
      "{'a': 5,\n",
      " 'abstract': 1,\n",
      " 'an': 3,\n",
      " 'array': 2,\n",
      " 'associative': 1,\n",
      " 'be': 1,\n",
      " 'buckets': 1,\n",
      " 'can': 2,\n",
      " 'compute': 1,\n",
      " 'computing': 1,\n",
      " 'data': 2,\n",
      " 'desired': 1,\n",
      " 'found': 1,\n",
      " 'from': 1,\n",
      " 'function': 1,\n",
      " 'hash': 4,\n",
      " 'implements': 1,\n",
      " 'in': 1,\n",
      " 'index': 1,\n",
      " 'into': 1,\n",
      " 'is': 1,\n",
      " 'keys': 1,\n",
      " 'map': 2,\n",
      " 'of': 1,\n",
      " 'or': 1,\n",
      " 'slots': 1,\n",
      " 'structure': 2,\n",
      " 'table': 2,\n",
      " 'that': 1,\n",
      " 'the': 1,\n",
      " 'to': 2,\n",
      " 'type': 1,\n",
      " 'uses': 1,\n",
      " 'value': 1,\n",
      " 'values': 1,\n",
      " 'which': 2}\n"
     ]
    }
   ],
   "source": [
    "from pprint import pprint\n",
    "a_text = 'In computing, a hash table hash map is a data structure which implements an associative array abstract data type, a structure that can map keys to values. A hash table uses a hash function to compute an index into an array of buckets or slots from which the desired value can be found'\n",
    "\n",
    "def distinct_words_count(string):\n",
    "    dict_count = {}\n",
    "    # lowecase the entire string, remove non ascii characters, then create a list of distinct words using whitespace\n",
    "    list_of_words = a_text.lower().replace(\",\", \"\").replace(\".\", \"\").split()\n",
    "    for word in list_of_words:\n",
    "        # record each word and its corresponding count in our dict\n",
    "        dict_count[word] = dict_count.get(word, 0) + 1\n",
    "    return dict_count\n",
    "\n",
    "pprint(distinct_words_count(a_text))"
   ]
  },
  {
   "cell_type": "markdown",
   "metadata": {},
   "source": [
    "## Exercise #3\n",
    "\n",
    "Write a program to implement a Linear Search Algorithm. Also in a comment, write the Time Complexity of the following algorithm.\n",
    "\n",
    "#### Hint: Linear Searching will require searching a list for a given number. "
   ]
  },
  {
   "cell_type": "code",
   "execution_count": 50,
   "metadata": {},
   "outputs": [
    {
     "name": "stdout",
     "output_type": "stream",
     "text": [
      "What number would you like to search for: a\n",
      "What number would you like to search for: b\n",
      "What number would you like to search for: c\n",
      "What number would you like to search for: .\n",
      "What number would you like to search for: 8\n",
      "8 was found at index 7 of the array.\n"
     ]
    }
   ],
   "source": [
    "def main():\n",
    "    array = [1,2,3,4,5,6,7,8,9]\n",
    "    \n",
    "    while True:\n",
    "        try:\n",
    "            to_search_for = int(input(\"What number would you like to search for: \"))\n",
    "            break\n",
    "        except ValueError:\n",
    "            continue\n",
    "            \n",
    "    print(linear_search(array, to_search_for))\n",
    "    \n",
    "    \n",
    "def linear_search(arr, target):\n",
    "    for i in arr:\n",
    "        if i == target:\n",
    "            return f\"{target} was found at index {arr.index(target)} of the array.\"\n",
    "    return f\"{target} was not found in the array!\"\n",
    "    # Time complexity is O(n) given that in the worst case, we traverse the entirety of the list to find the target. So,\n",
    "    # the amount of primitive operations performed will depend on the input size given to our algorithm.\n",
    "\n",
    "if __name__ == \"__main__\":\n",
    "    main()"
   ]
  }
 ],
 "metadata": {
  "kernelspec": {
   "display_name": "Python 3 (ipykernel)",
   "language": "python",
   "name": "python3"
  },
  "language_info": {
   "codemirror_mode": {
    "name": "ipython",
    "version": 3
   },
   "file_extension": ".py",
   "mimetype": "text/x-python",
   "name": "python",
   "nbconvert_exporter": "python",
   "pygments_lexer": "ipython3",
   "version": "3.11.3"
  }
 },
 "nbformat": 4,
 "nbformat_minor": 2
}

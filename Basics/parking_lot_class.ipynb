{
 "cells": [
  {
   "cell_type": "markdown",
   "id": "3494757b",
   "metadata": {},
   "source": [
    "# Your assignment for today is to create a parking garage class to get more familiar with Object Oriented Programming(OOP). \n",
    "\n",
    "\n",
    "Your parking garage class should have the following methods:\n",
    "- takeTicket\n",
    "    - This should decrease the amount of tickets available by 1\n",
    "    - This should decrease the amount of parkingSpaces available by 1\n",
    "- payForParking\n",
    "    - Display an input that waits for an amount from the user and store it in a variable\n",
    "    - If the payment variable is not empty then (meaning the ticket has been paid) -> display a message \n",
    "        to the user that their ticket has been paid and they have 15mins to leave\n",
    "    - This should update the \"currentTicket\" dictionary key \"paid\" to True\n",
    "\n",
    "- leaveGarage\n",
    "    - If the ticket has been paid, display a message of \"Thank You, have a nice day\"\n",
    "    - If the ticket has not been paid, display an input prompt for payment\n",
    "    - Once paid, display message \"Thank you, have a nice day!\"\n",
    "    - Update parkingSpaces list to increase by 1 (meaning add to the parkingSpaces list)\n",
    "    - Update tickets list to increase by 1 (meaning add to the tickets list)\n",
    "\n",
    "You will need a few attributes as well:\n",
    "- tickets -> list\n",
    "- parkingSpaces -> list\n",
    "- currentTicket -> dictionary"
   ]
  },
  {
   "cell_type": "code",
   "execution_count": 9,
   "id": "091607be",
   "metadata": {},
   "outputs": [
    {
     "name": "stdout",
     "output_type": "stream",
     "text": [
      "Pay for parking: \n",
      "Pay for parking: 1\n",
      "Payment successful. You have 15 minutes to head out or you will be charged extra muhaha.\n"
     ]
    },
    {
     "data": {
      "text/plain": [
       "'Thank you, have a nice day!'"
      ]
     },
     "execution_count": 9,
     "metadata": {},
     "output_type": "execute_result"
    }
   ],
   "source": [
    "class ParkingGarage:\n",
    "    \"\"\"\n",
    "    The parking garage class simulates a real world paid parking scenario.\n",
    "    \n",
    "    Attributes:\n",
    "        int tickets: The total amount of tickets allocated for sale. Does not necessarily correspond to parking spaces,\n",
    "                     as some spaces may be reserved. However, for this demo, every space is available for lease.\n",
    "        int parkingSpaces: Total number of available parking spaces for lease.\n",
    "        dict currentTicket: key-value pair of current ticket's payment status.\n",
    "        bool took_a_ticket: bool to store that a ticket was taken or not \n",
    "        \n",
    "    Methods:\n",
    "        takeTicket: decrements total tickets and parking spaces. sets took_a_ticket attr to True\n",
    "        return: bool\n",
    "        \n",
    "        payForParking: takes in user payment. sets currentTicket dict's paid key to True if valid payment was tendered.\n",
    "        return: bool\n",
    "        \n",
    "        leaveGarage: checks if a ticket was taken, checks if a payment was made, then bids the user goodbye.\n",
    "        return: None\n",
    "    \"\"\"\n",
    "    def __init__(self):\n",
    "        self._tickets = 100\n",
    "        self._parkingSpaces = 100\n",
    "        self._currentTicket = {'paid':False}\n",
    "        self._took_a_ticket = False\n",
    "    \n",
    "    def takeTicket(self):\n",
    "        self._tickets -= 1\n",
    "        self._parkingSpaces -= 1\n",
    "        self._took_a_ticket = True\n",
    "        return self._took_a_ticket\n",
    "\n",
    "    def payForParking(self):\n",
    "        payment = input(\"Pay for parking: \").strip()\n",
    "        if payment:\n",
    "            print(\"Payment successful. You have 15 minutes to head out or you will be charged extra muhaha.\")\n",
    "            self._currentTicket['paid'] = True\n",
    "        return self._currentTicket['paid']\n",
    "    \n",
    "    def leaveGarage(self):\n",
    "        if self._took_a_ticket:\n",
    "            if self.payForParking():\n",
    "                self._tickets += 1\n",
    "                self._parkingSpaces += 1\n",
    "                return \"Thank you, have a nice day!\"\n",
    "            else:\n",
    "                self.payForParking()\n",
    "        \n",
    "        \n",
    "parking = ParkingGarage()\n",
    "parking.takeTicket()\n",
    "parking.payForParking()\n",
    "parking.leaveGarage()"
   ]
  },
  {
   "cell_type": "code",
   "execution_count": null,
   "id": "d19105bc",
   "metadata": {},
   "outputs": [],
   "source": []
  }
 ],
 "metadata": {
  "kernelspec": {
   "display_name": "Python 3 (ipykernel)",
   "language": "python",
   "name": "python3"
  },
  "language_info": {
   "codemirror_mode": {
    "name": "ipython",
    "version": 3
   },
   "file_extension": ".py",
   "mimetype": "text/x-python",
   "name": "python",
   "nbconvert_exporter": "python",
   "pygments_lexer": "ipython3",
   "version": "3.11.3"
  }
 },
 "nbformat": 4,
 "nbformat_minor": 5
}
